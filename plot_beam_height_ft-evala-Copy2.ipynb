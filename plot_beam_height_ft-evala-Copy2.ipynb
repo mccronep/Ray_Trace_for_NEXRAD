{
 "cells": [
  {
   "cell_type": "code",
   "execution_count": 18,
   "id": "58338236",
   "metadata": {},
   "outputs": [],
   "source": [
    "## Standard Atmosphere plot of radar beam height.\n",
    "## \n",
    "## All values are metric until we convert to feet and nautical miles at the conclusion.\n",
    "##\n",
    "## This program plots a single elevation from a selected VCP. The upper, Center and Lower beam are calculated.\n",
    "##\n",
    "## Written by Paul MCCRONE, NOAA/NWS/Radar Operations Center Field Requirements Branch\n",
    "## June 1, 2022"
   ]
  },
  {
   "cell_type": "code",
   "execution_count": 19,
   "id": "70feaaff",
   "metadata": {},
   "outputs": [],
   "source": [
    "try:\n",
    "    import matplotlib.pyplot as plt\n",
    "    import numpy as np\n",
    "    \n",
    "except:\n",
    "    print('Error loading modules')"
   ]
  },
  {
   "cell_type": "code",
   "execution_count": 20,
   "id": "5bbf6f89",
   "metadata": {},
   "outputs": [
    {
     "name": "stdout",
     "output_type": "stream",
     "text": [
      "Phi, the angles of elev for VCP212 are  [ 0.5  0.9  1.3  1.8  2.4  3.1  4.   5.1  6.4  8.  10.  12.5 15.6 19.5]\n"
     ]
    }
   ],
   "source": [
    "# H=       Height of the Beam Centerline above sea level\n",
    "# H0=      Height of the radar above sea  level = STE + TWR_HT\n",
    "# STE=     Station elevation\n",
    "# TWR_HT=  Tower Height\n",
    "# R=       Range (distance) to target in km\n",
    "# PHi=     elevation angles of beam in degrees\n",
    "# Re=      Radus of Earth = 6374 km\n",
    "\n",
    "#\n",
    "# H = SQRT ( R^2 +((4/3)Re + H0)^2  +2R((4/3)Re+H0)sin(PHi)-(4/3)Re )\n",
    "#\n",
    "\n",
    "VCP = 212\n",
    "\n",
    "Beam=\"Center \"\n",
    "\n",
    "Beam_Value=0.48\n",
    "##\n",
    "## Set the Beam Value to 0.0 for Center Beam only\n",
    "## The current setting is 0.48 because we want the upper and lower beam, and that is 0.96\n",
    "\n",
    "Re=6374.0\n",
    "#(The earth Radius is in km)\n",
    "\n",
    "# WE will assume VCP 212- \n",
    "PHi212=[0.5, 0.9, 1.3, 1.8, 2.4, 3.1, 4, 5.1, 6.4, 8, 10, 12.5, 15.6, 19.5]\n",
    "PHi212a=np.array(PHi212)\n",
    "\n",
    "PHi212lower=np.array(PHi212)-Beam_Value\n",
    "\n",
    "PHi212upper=np.array(PHi212)+Beam_Value\n",
    "\n",
    "print(\"Phi, the angles of elev for VCP\"+str(VCP)+\" are \", str(PHi212a))"
   ]
  },
  {
   "cell_type": "code",
   "execution_count": 21,
   "id": "6a40c4e4",
   "metadata": {},
   "outputs": [
    {
     "name": "stdout",
     "output_type": "stream",
     "text": [
      "In Radians [0.00872665 0.01570796 0.02268928 0.03141593 0.0418879  0.05410521\n",
      " 0.06981317 0.08901179 0.11170107 0.13962634 0.17453293 0.21816616\n",
      " 0.27227136 0.3403392 ]\n"
     ]
    }
   ],
   "source": [
    "PHi212rad=np.radians(PHi212a)\n",
    "\n",
    "PHi212Lrad=np.radians(PHi212lower)\n",
    "PHi212Urad=np.radians(PHi212upper)\n",
    "\n",
    "print(\"In Radians\", str(PHi212rad))\n",
    "\n",
    "PHi=PHi212rad\n",
    "PHi_angle=PHi212\n",
    "PHiU=PHi212Urad\n",
    "PHiL=PHi212Lrad"
   ]
  },
  {
   "cell_type": "code",
   "execution_count": 22,
   "id": "cdf17f60",
   "metadata": {},
   "outputs": [
    {
     "data": {
      "text/plain": [
       "array([1.000e-01, 2.000e-01, 3.000e-01, ..., 4.598e+02, 4.599e+02,\n",
       "       4.600e+02])"
      ]
     },
     "execution_count": 22,
     "metadata": {},
     "output_type": "execute_result"
    }
   ],
   "source": [
    "R= np.arange(0.1,460.1,0.1)\n",
    "R"
   ]
  },
  {
   "cell_type": "code",
   "execution_count": 23,
   "id": "3da7d65b",
   "metadata": {},
   "outputs": [
    {
     "data": {
      "text/plain": [
       "4600"
      ]
     },
     "execution_count": 23,
     "metadata": {},
     "output_type": "execute_result"
    }
   ],
   "source": [
    "len(R)"
   ]
  },
  {
   "cell_type": "code",
   "execution_count": 24,
   "id": "0c13e9d1",
   "metadata": {},
   "outputs": [],
   "source": [
    "RSQ=R**2\n"
   ]
  },
  {
   "cell_type": "code",
   "execution_count": 25,
   "id": "b706a3b7",
   "metadata": {},
   "outputs": [
    {
     "data": {
      "text/plain": [
       "array([1.0000000e-02, 4.0000000e-02, 9.0000000e-02, ..., 2.1141604e+05,\n",
       "       2.1150801e+05, 2.1160000e+05])"
      ]
     },
     "execution_count": 25,
     "metadata": {},
     "output_type": "execute_result"
    }
   ],
   "source": [
    "RSQ"
   ]
  },
  {
   "cell_type": "code",
   "execution_count": 26,
   "id": "02403c73",
   "metadata": {},
   "outputs": [
    {
     "data": {
      "text/plain": [
       "4600"
      ]
     },
     "execution_count": 26,
     "metadata": {},
     "output_type": "execute_result"
    }
   ],
   "source": [
    "len(RSQ)"
   ]
  },
  {
   "cell_type": "code",
   "execution_count": 27,
   "id": "abbbd311",
   "metadata": {},
   "outputs": [],
   "source": [
    "r43=4.0/3.0\n",
    "\n",
    "STE= 200.0#meters\n",
    "TWR_HT=32.0#meters\n",
    "\n",
    "H0m=STE+TWR_HT#mter\n",
    "H0=H0m/1000.0 #Convert to km\n",
    "#pri"
   ]
  },
  {
   "cell_type": "code",
   "execution_count": 28,
   "id": "dfeb52f4",
   "metadata": {},
   "outputs": [
    {
     "name": "stdout",
     "output_type": "stream",
     "text": [
      "H0= 0.232\n"
     ]
    }
   ],
   "source": [
    "print(\"H0= \"+str(H0))"
   ]
  },
  {
   "cell_type": "code",
   "execution_count": 29,
   "id": "de60b861",
   "metadata": {},
   "outputs": [
    {
     "name": "stderr",
     "output_type": "stream",
     "text": [
      "No handles with labels found to put in legend.\n"
     ]
    },
    {
     "name": "stdout",
     "output_type": "stream",
     "text": [
      "angle in radians:0.015707963267948967\n",
      "angle in degrees:0.9\n",
      "BB:37378.57148433603\n",
      "CC:8498.666666666666\n",
      "Hrr:3.583454198562322\n",
      "HH=11756.73987281121\n"
     ]
    },
    {
     "data": {
      "image/png": "[encoded data removed]",
      "text/plain": [
       "<Figure size 1368x1368 with 1 Axes>"
      ]
     },
     "metadata": {
      "needs_background": "light"
     },
     "output_type": "display_data"
    }
   ],
   "source": [
    "fig, ax = plt.subplots(figsize=(19,19))\n",
    "\n",
    "#ax.plot(t, s)\n",
    "\n",
    "#Note, R is n km.\n",
    "Rnm = R*0.539957 #nautcal miles\n",
    "\n",
    "\n",
    "xupperlimit=175.0\n",
    "yupperlimit=50000\n",
    "\n",
    "## First plot Center beam\n",
    "#counter=0\n",
    "#for angle in PHi:\n",
    "#\n",
    "#    AA=(r43*Re)+H0\n",
    "#    BB=2*R*(r43*Re+H0)*np.sin(angle)\n",
    "#    CC=r43*Re\n",
    "#\n",
    "#    Hr=np.emath.sqrt(RSQ+(AA*AA)+BB)-CC\n",
    "#    H=Hr*3280.84\n",
    "#    # 3280.84 converts to feet\n",
    "#    ax.plot(Rnm,H, label=str(PHi_angle[counter]))\n",
    "#    plt.xlim((0,xupperlimit))\n",
    "#    plt.ylim((0,yupperlimit))\n",
    "#    counter=counter+1\n",
    "    \n",
    "## Then plot upper beam\n",
    "#for angle in PHiU:\n",
    "#\n",
    "#    AA=(r43*Re)+H0\n",
    "#    BB=2*R*(r43*Re+H0)*np.sin(angle)\n",
    "#    CC=r43*Re\n",
    "#\n",
    "#    Hr=np.emath.sqrt(RSQ+(AA*AA)+BB)-CC\n",
    "#    H=Hr*3280.84\n",
    "#    # 3280.84 converts to feet\n",
    "#    ax.plot(Rnm,H, color='black')\n",
    "#    plt.xlim((0,xupperlimit))\n",
    "#    plt.ylim((0,yupperlimit))\n",
    "    \n",
    "\n",
    "\n",
    "## Plot lower beam\n",
    "#    \n",
    "#for angle in PHiL:\n",
    "#\n",
    "#    AA=(r43*Re)+H0\n",
    "#    BB=2*R*(r43*Re+H0)*np.sin(angle)\n",
    "#    CC=r43*Re\n",
    "#    Hr=np.emath.sqrt(RSQ+(AA*AA)+BB)-CC\n",
    "#    H=Hr*3280.84\n",
    "#    # 3280.84 converts to feet\n",
    "#    ax.plot(Rnm,H, color='grey',linewidth=2, linestyle=':')\n",
    "#    plt.xlim((0,xupperlimit))\n",
    "#    plt.ylim((0,yupperlimit))\n",
    "\n",
    "#Plot the first elevation of the VCP (blue dashed)  \n",
    "\n",
    "angle_index=1\n",
    "\n",
    "try: \n",
    "    angle=PHi[angle_index]\n",
    "\n",
    "    AA=(r43*Re)+H0\n",
    "    BB=2*R*(r43*Re+H0)*np.sin(angle)\n",
    "    CC=r43*Re\n",
    "\n",
    "    Hr=np.emath.sqrt(RSQ+(AA*AA)+BB)-CC\n",
    "    H=Hr*3280.84\n",
    "    # 3280.84 converts to feet\n",
    "    ax.plot(Rnm,H, color='blue',linestyle=(0, (5, 2, 1, 2)), linewidth=6,dash_capstyle='round')\n",
    "    plt.xlim((0,xupperlimit))\n",
    "    plt.ylim((0,yupperlimit))\n",
    "except:\n",
    "    print(\"try\") \n",
    "    \n",
    "#Now show the 0.98 degree angle (red dashed).    \n",
    "try: \n",
    "    angle=PHiU[angle_index]\n",
    "\n",
    "    AA=(r43*Re)+H0\n",
    "    BB=2*R*(r43*Re+H0)*np.sin(angle)\n",
    "    CC=r43*Re\n",
    "\n",
    "    Hr=np.emath.sqrt(RSQ+(AA*AA)+BB)-CC\n",
    "    H=Hr*3280.84\n",
    "    # 3280.84 converts to feet\n",
    "    ax.plot(Rnm,H, color='red',linestyle=(0, (5, 2, 1, 2)), linewidth=6,dash_capstyle='round')\n",
    "    plt.xlim((0,xupperlimit))\n",
    "    plt.ylim((0,yupperlimit))\n",
    "except:\n",
    "    print(\"try\")\n",
    "    \n",
    "#Now show the 0.48 degree angle (red dashed).    \n",
    "try: \n",
    "    angle=PHiL[angle_index]\n",
    "\n",
    "    AA=(r43*Re)+H0\n",
    "    BB=2*R*(r43*Re+H0)*np.sin(angle)\n",
    "    CC=r43*Re\n",
    "\n",
    "    Hr=np.emath.sqrt(RSQ+(AA*AA)+BB)-CC\n",
    "    H=Hr*3280.84\n",
    "    # 3280.84 converts to feet\n",
    "    ax.plot(Rnm,H, color='grey',linestyle=(0, (5, 2, 1, 2)), linewidth=6,dash_capstyle='round')\n",
    "    plt.xlim((0,xupperlimit))\n",
    "    plt.ylim((0,yupperlimit))\n",
    "except:\n",
    "    print(\"try\")\n",
    "    \n",
    "    \n",
    "plt.annotate('angle in degrees:'+str(PHi212[angle_index]), xy=(80, 8800), xytext=(120, 100), \n",
    "             arrowprops=dict(facecolor='black', shrink=0.05),\n",
    "            )\n",
    "\n",
    "### Determine the Center, upper and lower beam height for a particulat range in km\n",
    "#\n",
    "#Change the value of RRR to determine the location of the radar emissio\n",
    "\n",
    "RRR=140.0 # in km\n",
    "\n",
    "RRRnm=RRR*0.539957 #nautcal miles\n",
    "\n",
    "try: \n",
    "\n",
    "    #---------------\n",
    "\n",
    "    angle=PHi[angle_index]\n",
    "    print('angle in radians:'+str(angle))\n",
    "    print('angle in degrees:'+str(PHi212[angle_index]))\n",
    "    AA = (r43*Re)+H0\n",
    "    BB=2*RRR*(r43*Re+H0)*np.sin(angle)\n",
    "    print(\"BB:\"+str(BB))      \n",
    "    CC=r43*Re\n",
    "    print(\"CC:\"+str(CC))      \n",
    "    Hrr=np.emath.sqrt(RRR**2+(AA*AA)+BB)-CC\n",
    "    print(\"Hrr:\"+str(Hrr))      \n",
    "    HH=Hrr*3280.84\n",
    "    print(\"HH=\"+str(HH))\n",
    "    plt.plot(RRRnm, HH, marker=\"o\", markersize=16, markeredgecolor=\"black\", markerfacecolor=\"blue\")\n",
    "    # Draw lines\n",
    "    my_y_l   =[HH,HH]\n",
    "    my_x_line=[0,RRRnm]\n",
    "    plt.plot(my_x_line,my_y_l, color='purple',markersize=12)\n",
    "    my_y_l2   =[0,HH]\n",
    "    my_x_line2=[RRRnm,RRRnm]\n",
    "    plt.plot(my_x_line2,my_y_l2, color='purple',markersize=12)\n",
    "    plt.xlim((0,xupperlimit))\n",
    "    plt.ylim((0,yupperlimit))\n",
    "\n",
    "    point=\"Location of Interest\"\n",
    "    nmnm= \"Range {nautical miles}      \"+str(RRRnm)+' nm'\n",
    "    hhkm= \"Height of center beam{Feet} \"+str(np.around(HH))+' ft'\n",
    "    \n",
    "    plt.annotate(nmnm, xy=(RRRnm, HH), xytext=(10, 100), \n",
    "             arrowprops=dict(facecolor='black', shrink=0.05),\n",
    "            )\n",
    "    plt.annotate(hhkm, xy=(RRRnm, HH), xytext=(70, 100), \n",
    "             arrowprops=dict(facecolor='black', shrink=0.05),\n",
    "            )\n",
    "\n",
    "    \n",
    "except:\n",
    "    print(\"try\")\n",
    "\n",
    "\n",
    "\n",
    "\n",
    "\n",
    "ax.set(xlabel='Range (nautical miles)', ylabel='Height above MSL (ft)',title='Radar '+str(Beam)+' Beam Height US Standard Atmosphere for VCP'+str(VCP))\n",
    "\n",
    "ax.grid()\n",
    "\n",
    "file=\"VCP\"+str(VCP)+\"ray.png\"\n",
    "\n",
    "fig.savefig(file)\n",
    "plt.legend()\n",
    "plt.show()"
   ]
  },
  {
   "cell_type": "code",
   "execution_count": 30,
   "id": "3aab7b8d",
   "metadata": {},
   "outputs": [],
   "source": [
    "#RRR=80.0 # in km\n",
    "#RRRnm=RRR*0.539957 #nautcal miles\n",
    "#angle=PHi[0]\n",
    "#print('angle:'+str(angle))\n",
    "#AA = (r43*Re)+H0\n",
    "#BB=2*RRR*(r43*Re+H0)*np.sin(angle)\n",
    "#CC=r43*Re\n",
    "#print(\"CC:\"+str(CC))      \n",
    "##Hrr=np.emath.sqrt(RSQ[0]+(AA*AA)+BB)-CC\n",
    "#Hrr=np.emath.sqrt(RRR**2+(AA*AA)+BB)-CC\n",
    "#HH=Hrr*3280.84\n",
    "#print(\"HH=\"+str(HH))"
   ]
  },
  {
   "cell_type": "code",
   "execution_count": 31,
   "id": "e75e2ad1",
   "metadata": {},
   "outputs": [
    {
     "name": "stdout",
     "output_type": "stream",
     "text": [
      "angle in radians:0.024085543677521744\n",
      "angle in degrees:0.9\n",
      "BB:57310.62512766551\n",
      "CC:8498.666666666666\n",
      "Hrr:4.755536857988773\n",
      "HH=15602.155545163885\n"
     ]
    }
   ],
   "source": [
    "try: \n",
    "\n",
    "    #------------------\n",
    "    # Print upper beam \n",
    "    angle=PHiU[angle_index]\n",
    "    print('angle in radians:'+str(angle))\n",
    "    print('angle in degrees:'+str(PHi212[angle_index]))\n",
    "    AA = (r43*Re)+H0\n",
    "    BB=2*RRR*(r43*Re+H0)*np.sin(angle)\n",
    "    print(\"BB:\"+str(BB))      \n",
    "    CC=r43*Re\n",
    "    print(\"CC:\"+str(CC))      \n",
    "    Hrr=np.emath.sqrt(RRR**2+(AA*AA)+BB)-CC\n",
    "    print(\"Hrr:\"+str(Hrr))      \n",
    "    HH=Hrr*3280.84\n",
    "    print(\"HH=\"+str(HH))\n",
    "    #plt.plot(RRRnm, HH, marker=\"o\", markersize=16, markeredgecolor=\"black\", markerfacecolor=\"blue\")\n",
    "    ## Draw lines\n",
    "    #my_y_l   =[HH,HH]\n",
    "    #my_x_line=[0,RRRnm]\n",
    "    #plt.plot(my_x_line,my_y_l, color='purple',markersize=12)\n",
    "    my_y_l2   =[0,HH]\n",
    "    my_x_line2=[RRRnm,RRRnm]\n",
    "    #plt.plot(my_x_line2,my_y_l2, color='purple',markersize=12)\n",
    "    #plt.xlim((0,xupperlimit))\n",
    "    #plt.ylim((0,yupperlimit))\n",
    "\n",
    "    point=\"Upper Beam at Location of Interest\"\n",
    "    nmnm= \"Range {nautical miles}      \"+str(RRRnm)+' nm'\n",
    "    hhkm= \"Height of center beam{Feet} \"+str(np.around(HH))+' ft'\n",
    "    \n",
    "    #plt.annotate(nmnm, xy=(RRRnm, HH), xytext=(10, 100), \n",
    "    #         arrowprops=dict(facecolor='black', shrink=0.05),\n",
    "    #        )\n",
    "    #plt.annotate(hhkm, xy=(RRRnm, HH), xytext=(70, 100), \n",
    "    #         arrowprops=dict(facecolor='black', shrink=0.05),\n",
    "    #        )\n",
    "\n",
    "    \n",
    "except:\n",
    "    print(\"try\")\n"
   ]
  },
  {
   "cell_type": "code",
   "execution_count": 33,
   "id": "699a48a4",
   "metadata": {},
   "outputs": [
    {
     "name": "stdout",
     "output_type": "stream",
     "text": [
      "Upper Beam at Location of Interest\n",
      "Range {Km}                  140.0 km\n",
      "Range {nautical miles}      75.59398 nm\n",
      "Height of upper beam{Feet} 15602.155545163885 ft\n"
     ]
    }
   ],
   "source": [
    "print(point)\n",
    "print(\"Range {Km}                  \"+str(RRR)+' km')\n",
    "print(\"Range {nautical miles}      \"+str(RRRnm)+' nm')\n",
    "print(\"Height of upper beam{Feet} \"+str(HH)+' ft')\n",
    "#"
   ]
  },
  {
   "cell_type": "code",
   "execution_count": 34,
   "id": "a64459e5",
   "metadata": {},
   "outputs": [
    {
     "name": "stdout",
     "output_type": "stream",
     "text": [
      "angle in radians:0.015707963267948967\n",
      "angle in degrees:0.9\n",
      "BB:37378.57148433603\n",
      "CC:8498.666666666666\n",
      "Hrr:3.583454198562322\n",
      "HH=11756.73987281121\n"
     ]
    }
   ],
   "source": [
    "try: \n",
    "\n",
    "    #---------------\n",
    "\n",
    "    angle=PHi[angle_index]\n",
    "    print('angle in radians:'+str(angle))\n",
    "    print('angle in degrees:'+str(PHi212[angle_index]))\n",
    "    AA = (r43*Re)+H0\n",
    "    BB=2*RRR*(r43*Re+H0)*np.sin(angle)\n",
    "    print(\"BB:\"+str(BB))      \n",
    "    CC=r43*Re\n",
    "    print(\"CC:\"+str(CC))      \n",
    "    Hrr=np.emath.sqrt(RRR**2+(AA*AA)+BB)-CC\n",
    "    print(\"Hrr:\"+str(Hrr))      \n",
    "    HH=Hrr*3280.84\n",
    "    print(\"HH=\"+str(HH))\n",
    "    #plt.plot(RRRnm, HH, marker=\"o\", markersize=16, markeredgecolor=\"black\", markerfacecolor=\"blue\")\n",
    "    ## Draw lines\n",
    "    #my_y_l   =[HH,HH]\n",
    "    #my_x_line=[0,RRRnm]\n",
    "    #plt.plot(my_x_line,my_y_l, color='purple',markersize=12)\n",
    "    my_y_l2   =[0,HH]\n",
    "    my_x_line2=[RRRnm,RRRnm]\n",
    "    #plt.plot(my_x_line2,my_y_l2, color='purple',markersize=12)\n",
    "    #plt.xlim((0,xupperlimit))\n",
    "    #plt.ylim((0,yupperlimit))\n",
    "\n",
    "    point=\"Center Beam at the Location of Interest\"\n",
    "    nmnm= \"Range {nautical miles}      \"+str(RRRnm)+' nm'\n",
    "    hhkm= \"Height of center beam{Feet} \"+str(np.around(HH))+' ft'\n",
    "    \n",
    "    #plt.annotate(nmnm, xy=(RRRnm, HH), xytext=(10, 100), \n",
    "    #         arrowprops=dict(facecolor='black', shrink=0.05),\n",
    "    #        )\n",
    "    #plt.annotate(hhkm, xy=(RRRnm, HH), xytext=(70, 100), \n",
    "    #         arrowprops=dict(facecolor='black', shrink=0.05),\n",
    "    #        )\n",
    "\n",
    "    \n",
    "except:\n",
    "    print(\"try\")\n"
   ]
  },
  {
   "cell_type": "code",
   "execution_count": 35,
   "id": "5d1a4bb6",
   "metadata": {},
   "outputs": [
    {
     "name": "stdout",
     "output_type": "stream",
     "text": [
      "Center Beam at the Location of Interest\n",
      "Range {Km}                  140.0 km\n",
      "Range {nautical miles}      75.59398 nm\n",
      "Height of center beam{Feet} 11756.73987281121 ft\n"
     ]
    }
   ],
   "source": [
    "print(point)\n",
    "print(\"Range {Km}                  \"+str(RRR)+' km')\n",
    "print(\"Range {nautical miles}      \"+str(RRRnm)+' nm')\n",
    "print(\"Height of center beam{Feet} \"+str(HH)+' ft')\n",
    "#"
   ]
  },
  {
   "cell_type": "code",
   "execution_count": 36,
   "id": "d0a867bd",
   "metadata": {},
   "outputs": [
    {
     "name": "stdout",
     "output_type": "stream",
     "text": [
      "angle in radians:0.007330382858376185\n",
      "angle in degrees:0.9\n",
      "BB:17443.894484163913\n",
      "CC:8498.666666666666\n",
      "Hrr:2.411055643169675\n",
      "HH=7910.287796336797\n"
     ]
    }
   ],
   "source": [
    "try: \n",
    "\n",
    "    #------------------\n",
    "    # Print Lower beam \n",
    "    angle=PHiL[angle_index]\n",
    "    print('angle in radians:'+str(angle))\n",
    "    print('angle in degrees:'+str(PHi212[angle_index]))\n",
    "    AA = (r43*Re)+H0\n",
    "    BB=2*RRR*(r43*Re+H0)*np.sin(angle)\n",
    "    print(\"BB:\"+str(BB))      \n",
    "    CC=r43*Re\n",
    "    print(\"CC:\"+str(CC))      \n",
    "    Hrr=np.emath.sqrt(RRR**2+(AA*AA)+BB)-CC\n",
    "    print(\"Hrr:\"+str(Hrr))      \n",
    "    HH=Hrr*3280.84\n",
    "    print(\"HH=\"+str(HH))\n",
    "    #plt.plot(RRRnm, HH, marker=\"o\", markersize=16, markeredgecolor=\"black\", markerfacecolor=\"blue\")\n",
    "    ## Draw lines\n",
    "    #my_y_l   =[HH,HH]\n",
    "    #my_x_line=[0,RRRnm]\n",
    "    #plt.plot(my_x_line,my_y_l, color='purple',markersize=12)\n",
    "    my_y_l2   =[0,HH]\n",
    "    my_x_line2=[RRRnm,RRRnm]\n",
    "    #plt.plot(my_x_line2,my_y_l2, color='purple',markersize=12)\n",
    "    #plt.xlim((0,xupperlimit))\n",
    "    #plt.ylim((0,yupperlimit))\n",
    "\n",
    "    point=\"Lower Beam at Location of Interest\"\n",
    "    nmnm= \"Range {nautical miles}      \"+str(RRRnm)+' nm'\n",
    "    hhkm= \"Height of center beam{Feet} \"+str(np.around(HH))+' ft'\n",
    "    \n",
    "    #plt.annotate(nmnm, xy=(RRRnm, HH), xytext=(10, 100), \n",
    "    #         arrowprops=dict(facecolor='black', shrink=0.05),\n",
    "    #        )\n",
    "    #plt.annotate(hhkm, xy=(RRRnm, HH), xytext=(70, 100), \n",
    "    #         arrowprops=dict(facecolor='black', shrink=0.05),\n",
    "    #        )\n",
    "\n",
    "    \n",
    "except:\n",
    "    print(\"try\")\n"
   ]
  },
  {
   "cell_type": "code",
   "execution_count": 37,
   "id": "0ad768d6",
   "metadata": {},
   "outputs": [
    {
     "name": "stdout",
     "output_type": "stream",
     "text": [
      "Lower Beam at Location of Interest\n",
      "Range {Km}                  140.0 km\n",
      "Range {nautical miles}      75.59398 nm\n",
      "Height of lower beam{Feet} 7910.287796336797 ft\n"
     ]
    }
   ],
   "source": [
    "print(point)\n",
    "print(\"Range {Km}                  \"+str(RRR)+' km')\n",
    "print(\"Range {nautical miles}      \"+str(RRRnm)+' nm')\n",
    "print(\"Height of lower beam{Feet} \"+str(HH)+' ft')\n",
    "#"
   ]
  },
  {
   "cell_type": "code",
   "execution_count": null,
   "id": "03bfb2ad",
   "metadata": {},
   "outputs": [],
   "source": []
  },
  {
   "cell_type": "code",
   "execution_count": null,
   "id": "9fe269b1",
   "metadata": {},
   "outputs": [],
   "source": []
  },
  {
   "cell_type": "code",
   "execution_count": null,
   "id": "a265e215",
   "metadata": {},
   "outputs": [],
   "source": []
  },
  {
   "cell_type": "code",
   "execution_count": null,
   "id": "37f759d7",
   "metadata": {},
   "outputs": [],
   "source": []
  },
  {
   "cell_type": "code",
   "execution_count": 52,
   "id": "5e9da526",
   "metadata": {},
   "outputs": [
    {
     "data": {
      "text/plain": [
       "array([ 1.19400059,  1.19400235,  1.19400529, ..., 13.6213567 ,\n",
       "       13.62675889, 13.63216225])"
      ]
     },
     "execution_count": 52,
     "metadata": {},
     "output_type": "execute_result"
    }
   ],
   "source": []
  },
  {
   "cell_type": "code",
   "execution_count": null,
   "id": "4b437ba6",
   "metadata": {},
   "outputs": [],
   "source": []
  }
 ],
 "metadata": {
  "kernelspec": {
   "display_name": "Python 3",
   "language": "python",
   "name": "python3"
  },
  "language_info": {
   "codemirror_mode": {
    "name": "ipython",
    "version": 3
   },
   "file_extension": ".py",
   "mimetype": "text/x-python",
   "name": "python",
   "nbconvert_exporter": "python",
   "pygments_lexer": "ipython3",
   "version": "3.8.8"
  }
 },
 "nbformat": 4,
 "nbformat_minor": 5
}
